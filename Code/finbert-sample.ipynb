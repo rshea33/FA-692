{
 "cells": [
  {
   "cell_type": "code",
   "execution_count": null,
   "id": "0a86eee7",
   "metadata": {},
   "outputs": [],
   "source": [
    "import numpy as np\n",
    "import pandas as pd\n",
    "\n",
    "# Set seed of random number generator\n",
    "CWID = -1 # Place here your Campus wide ID number, this will personalize\n",
    "#your results, but still maintain the reproducibl nature of using seeds.\n",
    "personal = CWID % 10000\n",
    "np.random.seed(personal)"
   ]
  },
  {
   "cell_type": "code",
   "execution_count": null,
   "id": "daa1558c",
   "metadata": {},
   "outputs": [],
   "source": [
    "# Import financial headlines\n",
    "headlines_df = pd.read_csv('300_stock_headlines.csv')\n",
    "headlines_df.head(5)"
   ]
  },
  {
   "cell_type": "code",
   "execution_count": null,
   "id": "17598e38",
   "metadata": {},
   "outputs": [],
   "source": [
    "# Save the headlines as a list\n",
    "headlines_array = np.array(headlines_df)\n",
    "np.random.shuffle(headlines_array) # Reshuffle headlines to avoid causal biases\n",
    "headlines_list = list(headlines_array[:,2])\n",
    "\n",
    "print(headlines_list)"
   ]
  },
  {
   "cell_type": "code",
   "execution_count": null,
   "id": "e6256548",
   "metadata": {},
   "outputs": [],
   "source": [
    "# Import FinBERT\n",
    "from transformers import AutoTokenizer, AutoModelForSequenceClassification\n",
    "\n",
    "tokenizer = AutoTokenizer.from_pretrained(\"ProsusAI/finbert\")\n",
    "model = AutoModelForSequenceClassification.from_pretrained(\"ProsusAI/finbert\")"
   ]
  },
  {
   "cell_type": "code",
   "execution_count": null,
   "id": "28f2d1b8",
   "metadata": {},
   "outputs": [],
   "source": [
    "# Tokenize the headlines to be machine readable\n",
    "\n",
    "inputs = tokenizer(headlines_list, padding = True, truncation = True, return_tensors='pt')\n",
    "print(inputs) # Store machine readable headlines as \"inputs\""
   ]
  },
  {
   "cell_type": "code",
   "execution_count": null,
   "id": "30118f09",
   "metadata": {},
   "outputs": [],
   "source": [
    "# Run FinBERT on the tokenized headlines\n",
    "\n",
    "outputs = model(**inputs)\n",
    "print(outputs.logits.shape) # Print out the outputted shape -- 3 outputs!"
   ]
  },
  {
   "cell_type": "code",
   "execution_count": null,
   "id": "5ff36942",
   "metadata": {},
   "outputs": [],
   "source": [
    "#Reshape the outputs with softmax so that they sum to 1 and all are positive \n",
    "# This makes for easier interpretation of the output\n",
    "import torch\n",
    "\n",
    "predictions = torch.nn.functional.softmax(outputs.logits, dim=-1)\n",
    "print(predictions)"
   ]
  },
  {
   "cell_type": "code",
   "execution_count": null,
   "id": "ea113b70",
   "metadata": {},
   "outputs": [],
   "source": [
    "# Print the labels for each of the 3 outputs to understand how to interpret the results\n",
    "\n",
    "model.config.id2label"
   ]
  },
  {
   "cell_type": "code",
   "execution_count": null,
   "id": "4c0302ea",
   "metadata": {},
   "outputs": [],
   "source": [
    "# Format the results as a pandas data frame\n",
    "#Headline #Positive #Negative #Neutral\n",
    "\n",
    "positive = predictions[:, 0].tolist()\n",
    "negative = predictions[:, 1].tolist()\n",
    "neutral = predictions[:, 2].tolist()\n",
    "\n",
    "table = {'Headline':headlines_list,\n",
    "         \"Positive\":positive,\n",
    "         \"Negative\":negative, \n",
    "         \"Neutral\":neutral}\n",
    "      \n",
    "df = pd.DataFrame(table, columns = [\"Headline\", \"Positive\", \"Negative\", \"Neutral\"])\n",
    "\n",
    "df.head(5)\n"
   ]
  },
  {
   "cell_type": "code",
   "execution_count": null,
   "id": "52f65992",
   "metadata": {},
   "outputs": [],
   "source": []
  }
 ],
 "metadata": {
  "kernelspec": {
   "display_name": "Python 3 (ipykernel)",
   "language": "python",
   "name": "python3"
  },
  "language_info": {
   "codemirror_mode": {
    "name": "ipython",
    "version": 3
   },
   "file_extension": ".py",
   "mimetype": "text/x-python",
   "name": "python",
   "nbconvert_exporter": "python",
   "pygments_lexer": "ipython3",
   "version": "3.9.7"
  }
 },
 "nbformat": 4,
 "nbformat_minor": 5
}
