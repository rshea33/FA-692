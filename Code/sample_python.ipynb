{
 "cells": [
  {
   "cell_type": "code",
   "execution_count": null,
   "id": "hairy-partner",
   "metadata": {},
   "outputs": [],
   "source": [
    "# Basics of Python\n",
    "import numpy as np\n",
    "import matplotlib.pyplot as plt\n",
    "\n",
    "# Set seed of random number generator\n",
    "CWID = -1 # Place here your Campus wide ID number, this will personalize\n",
    "#your results, but still maintain the reproducibl nature of using seeds.\n",
    "personal = CWID % 10000\n",
    "np.random.seed(personal)"
   ]
  },
  {
   "cell_type": "code",
   "execution_count": null,
   "id": "combined-ceiling",
   "metadata": {},
   "outputs": [],
   "source": [
    "# Generate uniform random numbers between -1 and 1\n",
    "x = np.random.uniform(low=-1,high=1,size=1000)\n",
    "plt.hist(x)\n",
    "plt.show()\n",
    "\n",
    "# Generate standard normal random numbers\n",
    "x = np.random.normal(loc=0,scale=1,size=1000)\n",
    "# Draw a histogram with 50 bins\n",
    "plt.hist(x,bins=50)\n",
    "plt.show()\n",
    "\n",
    "# Change the mean/variance\n",
    "x = np.random.normal(loc=20,scale=5,size=10000) # loc = mean; scale = standard deviations\n",
    "plt.hist(x,bins=50)\n",
    "plt.show()\n",
    "\n",
    "# Compute the sample mean and standard deviations\n",
    "print(np.mean(x))\n",
    "print(np.std(x))\n",
    "print(np.var(x))\n",
    "# Do these values make sense?"
   ]
  },
  {
   "cell_type": "code",
   "execution_count": null,
   "id": "published-milton",
   "metadata": {},
   "outputs": [],
   "source": [
    "# Vectors + Loops + sampling\n",
    "# Take out 25 random samples of 500 observations each (with replacement)\n",
    "mu = np.zeros(25)\n",
    "for i in range(0,25): #Note that Python likes to index starting at 0\n",
    "    mu[i] = np.mean(np.random.choice(x,size=500,replace=True)) #Sample 500 observations from x (with replacement)\n",
    "#Calculate the mean of the sample means and the standard deviation of the sample means\n",
    "print(np.mean(mu))\n",
    "print(np.std(mu))\n",
    "\n",
    "# Compare with central limit theorem\n",
    "# Mean = 20\n",
    "# Standard deviation = sigma/sqrt(n) = 5/sqrt(500) = 0.2236"
   ]
  },
  {
   "cell_type": "code",
   "execution_count": null,
   "id": "diagnostic-lucas",
   "metadata": {},
   "outputs": [],
   "source": [
    "# Create a vector of values from 1 to 50\n",
    "# Directly:\n",
    "x = range(1,51)\n",
    "print(x)\n",
    "\n",
    "x = np.arange(1,51)\n",
    "print(x)\n",
    "\n",
    "# Loops:\n",
    "# For loops:\n",
    "x = np.zeros(50)\n",
    "for i in range(0,50):\n",
    "    x[i] = i+1 #Remember Python indexes starting at 0\n",
    "print(x)\n",
    "\n",
    "# While loops:\n",
    "x = np.zeros(50)\n",
    "i = 0\n",
    "while i < 50:\n",
    "    x[i] = i+1\n",
    "    i = i+1\n",
    "print(x)\n",
    "\n",
    "\n",
    "# If statements:\n",
    "if len(x) > 100:\n",
    "    print('Length > 100')\n",
    "elif len(x) > 50:\n",
    "    print('Length > 50')\n",
    "else:\n",
    "    print('Length <= 50')"
   ]
  },
  {
   "cell_type": "code",
   "execution_count": null,
   "id": "intelligent-general",
   "metadata": {},
   "outputs": [],
   "source": [
    "# Download data sets: \"fakedataeasy.csv\"\n",
    "import pandas as pd\n",
    "\n",
    "df = pd.read_csv(\"fakedataeasy.csv\")\n",
    "print(df)\n",
    "# Find the mean and standard deviation of the variables\n",
    "print(df.mean())\n",
    "print(df.std())"
   ]
  },
  {
   "cell_type": "code",
   "execution_count": null,
   "id": "caroline-stocks",
   "metadata": {},
   "outputs": [],
   "source": [
    "# Download financial data:\n",
    "from pandas_datareader.data import DataReader\n",
    "import yfinance\n",
    "from datetime import datetime\n",
    "\n",
    "myData = yfinance.download([\"IBM\",\"MSFT\"],datetime(2018,1,1),datetime(2021,12,31)) #IBM and Microsoft chosen at random\n",
    "#myData = DataReader([\"IBM\",\"MSFT\"],\"yahoo\",datetime(2018,1,1),datetime(2021,12,31)) \n",
    "print(myData)\n",
    "\n",
    "IBM = myData[\"Adj Close\"][\"IBM\"]\n",
    "MSFT = myData[\"Adj Close\"][\"MSFT\"]\n",
    "rIBM = np.log(IBM) - np.log(IBM.shift(1)) # Daily log return\n",
    "rMSFT = np.log(MSFT) - np.log(MSFT.shift(1))\n",
    "\n",
    "# Create a data frame\n",
    "df = pd.DataFrame({'IBM': rIBM,'MSFT': rMSFT})\n",
    "print(df)\n",
    "\n",
    "# Find the mean and standard deviation of daily returns\n",
    "print(df.mean())\n",
    "print(df.std())"
   ]
  },
  {
   "cell_type": "code",
   "execution_count": null,
   "id": "c9e0934c",
   "metadata": {},
   "outputs": [],
   "source": []
  }
 ],
 "metadata": {
  "kernelspec": {
   "display_name": "Python 3",
   "language": "python",
   "name": "python3"
  },
  "language_info": {
   "codemirror_mode": {
    "name": "ipython",
    "version": 3
   },
   "file_extension": ".py",
   "mimetype": "text/x-python",
   "name": "python",
   "nbconvert_exporter": "python",
   "pygments_lexer": "ipython3",
   "version": "3.7.10"
  }
 },
 "nbformat": 4,
 "nbformat_minor": 5
}
